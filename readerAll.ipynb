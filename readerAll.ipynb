{
 "cells": [
  {
   "cell_type": "code",
   "execution_count": 6,
   "metadata": {},
   "outputs": [],
   "source": [
    "from cProfile import label\n",
    "from cmath import exp, pi, tan, sin, sqrt,acos,asin\n",
    "from re import A\n",
    "import matplotlib.pyplot as plt\n",
    "from scipy.optimize import curve_fit\n",
    "import numpy as npy\n",
    "from scipy.signal import savgol_filter\n",
    "from matplotlib.pyplot import MultipleLocator\n",
    "import csv\n",
    "# import latex\n",
    "# plt.style.reload_library()\n",
    "plt.style.use(['science'])\n",
    "# plt.style.use(['science','ieee'])\n",
    "# plt.style.use(['science','no-latex'])\n"
   ]
  },
  {
   "cell_type": "code",
   "execution_count": 11,
   "metadata": {},
   "outputs": [],
   "source": [
    "\n",
    "class dataVar:\n",
    "    def __init__(self,type):\n",
    "        self.type=type        #type of materials\n",
    "        self.wavelength=[]\n",
    "        self.psi=[]\n",
    "        self.delta=[]\n",
    "        self.n=[]\n",
    "        self.k=[]\n",
    "def calculate_index(phi,delta):\n",
    "    phi=float(phi*pi/180)\n",
    "    delta=float(delta*pi/180)\n",
    "    anglei=65/180*pi\n",
    "    rho=tan(phi)*exp(delta*1j)\n",
    "    n1=1.\n",
    "    # print('rho',rho)\n",
    "    epsilon= (n1**2) * (sin(anglei)**2) * ( 1+(tan(anglei)**2)*((1-rho)/(1+rho))**2) \n",
    "    ep_re=epsilon.real\n",
    "    ep_im=epsilon.imag\n",
    "    n2=(1./sqrt(2.) * sqrt( sqrt(ep_re**2+ep_im**2) +ep_re)).real\n",
    "    k2=(1./sqrt(2.) * sqrt( sqrt(ep_re**2+ep_im**2) -ep_re)).real\n",
    "    return n2,k2\n",
    "def reader(type):\n",
    "    data=dataVar(type)\n",
    "    csv_reader = csv.reader(open(type+'_65degree_CurveData.csv', 'r'))\n",
    "    temp=next(csv_reader)\n",
    "    while(1):\n",
    "        try:\n",
    "            temp=next(csv_reader)\n",
    "            psi_data=[]\n",
    "            delta_data=[]\n",
    "            n_data=[]\n",
    "            k_data=[]\n",
    "            if(type=='LAB'):\n",
    "                L=6\n",
    "            else:\n",
    "                L=8\n",
    "            for i in range(L):\n",
    "                psi_data.append(float(temp[1+3*i]))\n",
    "                delta_data.append(float(temp[2+3*i]))\n",
    "                a,b=calculate_index(float(temp[1+3*i]),float(temp[2+3*i]))\n",
    "                n_data.append(a)\n",
    "                k_data.append(b)\n",
    "            ave_psi=npy.mean(npy.array(psi_data))\n",
    "            ave_delta=npy.mean(npy.array(delta_data))\n",
    "            ave_n=npy.mean(npy.array(n_data))\n",
    "            ave_k=npy.mean(npy.array(k_data))\n",
    "            data.psi.append(ave_psi) \n",
    "            data.delta.append(ave_delta)\n",
    "            data.n.append(ave_n)\n",
    "            data.k.append(ave_k)\n",
    "            data.wavelength.append(float(temp[0]))  \n",
    "            # print(temp[0])\n",
    "        except StopIteration:\n",
    "            break\n",
    "    return data\n",
    "def reader2(filename):\n",
    "    data=dataVar(filename)\n",
    "    inputfile = open(filename+'.txt','r')\n",
    "    while(1):\n",
    "        try:\n",
    "            temp=next(inputfile).split()\n",
    "            if(filename=='RENO'):\n",
    "                data.wavelength.append(float(temp[0]))\n",
    "                data.n.append(float(temp[1]))\n",
    "            else:\n",
    "                data.wavelength.append(1240./float(temp[0]))\n",
    "                data.n.append(float(temp[2]))\n",
    "        except StopIteration:\n",
    "            break\n",
    "    return data\n",
    "            \n",
    "def Fun(x,a0,a1,a2,k,b): #define fit function\n",
    "    phi=k*x+b\n",
    "    # return a0+a1*npy.cos(2*phi)\n",
    "    return a0+a1*npy.cos(2*phi)+ a2*npy.sin(2*phi)\n",
    "\n",
    "\n"
   ]
  },
  {
   "cell_type": "code",
   "execution_count": 24,
   "metadata": {},
   "outputs": [
    {
     "data": {
      "image/png": "[encoded data removed]",
      "text/plain": [
       "<Figure size 252x189 with 1 Axes>"
      ]
     },
     "metadata": {
      "needs_background": "light"
     },
     "output_type": "display_data"
    }
   ],
   "source": [
    "# typename=['LAB','PC','UPW']\n",
    "# typename=['LAB']\n",
    "filename=['juno','borexino','RENO']\n",
    "# experimentname=['Juno','Borexino','RENO']\n",
    "data_index=reader('LAB')      \n",
    "data_juno=reader2(filename[0])\n",
    "data_borexino=reader2(filename[1])\n",
    "data_reno=reader2(filename[2])\n",
    "fig,ax=plt.subplots()\n",
    "ax.set_xlabel('Wavelength (nm)')\n",
    "ax.set_ylabel('Value')\n",
    "ax.plot(data_index.wavelength,data_index.n,label='Chengdu'    )#,color='blue)\n",
    "ax.plot(data_borexino.wavelength,data_borexino.n,label='Borexino')#,color='blue)\n",
    "ax.plot(data_reno.wavelength,data_reno.n,label='RENO',marker='.',markersize=5)#,color='blue)\n",
    "ax.plot(data_juno.wavelength,data_juno.n,label='JUNO',marker='*',markersize=5,color='r'       )#,color='blue)\n",
    "fig.suptitle('Refractive index Vs. Wavelength')\n",
    "fig.subplots_adjust(hspace=0)\n",
    "ax.legend()\n",
    "fig.savefig('figure/'+'DiffExpRindexVsWavelength.png',dpi=1000)\n",
    "\n"
   ]
  }
 ],
 "metadata": {
  "interpreter": {
   "hash": "e489308f240930053fdc748a0151acbc65137e27fd86fc286e52f1f58ae69a29"
  },
  "kernelspec": {
   "display_name": "Python 3.9.2 64-bit",
   "language": "python",
   "name": "python3"
  },
  "language_info": {
   "codemirror_mode": {
    "name": "ipython",
    "version": 3
   },
   "file_extension": ".py",
   "mimetype": "text/x-python",
   "name": "python",
   "nbconvert_exporter": "python",
   "pygments_lexer": "ipython3",
   "version": "3.9.2"
  },
  "orig_nbformat": 4
 },
 "nbformat": 4,
 "nbformat_minor": 2
}
