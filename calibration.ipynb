{
 "cells": [
  {
   "cell_type": "markdown",
   "metadata": {},
   "source": [
    "# To calibration the polarizer and analyzer angle"
   ]
  },
  {
   "cell_type": "code",
   "execution_count": 2,
   "metadata": {},
   "outputs": [],
   "source": [
    "from cProfile import label\n",
    "from cmath import exp, pi, tan, sin, sqrt,acos,asin\n",
    "from re import A\n",
    "import matplotlib.pyplot as plt\n",
    "from scipy.optimize import curve_fit\n",
    "import numpy as npy\n",
    "from scipy.signal import savgol_filter\n",
    "from matplotlib.pyplot import MultipleLocator\n",
    "from iminuit import Minuit\n",
    "import iminuit\n",
    "from iminuit.cost import LeastSquares\n",
    "# import latex\n",
    "# plt.style.reload_library()\n",
    "plt.style.use(['science'])\n",
    "# plt.style.use(['science','ieee'])\n",
    "# plt.style.use(['science','no-latex'])"
   ]
  },
  {
   "cell_type": "markdown",
   "metadata": {},
   "source": [
    "## The dark current"
   ]
  },
  {
   "cell_type": "code",
   "execution_count": 3,
   "metadata": {},
   "outputs": [],
   "source": [
    "def currentDark(filename):\n",
    "    inputfile=open(filename,'r')\n",
    "    measurement_dark=[]\n",
    "    monitor_dark=[]\n",
    "    while(1):\n",
    "        try:\n",
    "            temp=next(inputfile).split()\n",
    "            if(temp[4]=='dark'):\n",
    "                measurement_dark.append(1e6*float(temp[2]))\n",
    "            elif(temp[4]=='dark1'):\n",
    "                monitor_dark.append(1e6*float(temp[2]))\n",
    "        except StopIteration:\n",
    "            break\n",
    "    dark_meansurement=npy.mean(npy.array(measurement_dark))\n",
    "    dark_monitor=npy.mean(npy.array(monitor_dark))\n",
    "    return dark_meansurement,dark_monitor\n",
    "dark_measurement,dark_monitor = currentDark('measurement_dark.txt')"
   ]
  },
  {
   "cell_type": "markdown",
   "metadata": {},
   "source": [
    "## Define class and fit function"
   ]
  },
  {
   "cell_type": "code",
   "execution_count": 4,
   "metadata": {},
   "outputs": [],
   "source": [
    "def calculate_index(phi,delta):\n",
    "    phi=float(phi*pi/180)\n",
    "    delta=float(delta*pi/180)\n",
    "    anglei=65/180*pi\n",
    "    rho=tan(phi)*exp(delta*1j)\n",
    "    n1=1.\n",
    "    # print('rho',rho)\n",
    "    epsilon= (n1**2) * (sin(anglei)**2) * ( 1+(tan(anglei)**2)*((1-rho)/(1+rho))**2) \n",
    "    ep_re=epsilon.real\n",
    "    ep_im=epsilon.imag\n",
    "    n2=(1./sqrt(2.) * sqrt( sqrt(ep_re**2+ep_im**2) +ep_re)).real\n",
    "    k2=(1./sqrt(2.) * sqrt( sqrt(ep_re**2+ep_im**2) -ep_re)).real\n",
    "    return n2,k2\n",
    "\n",
    "def intensityFun(t,a0,a1,a2,w): #define fit function\n",
    "    phi=w*t\n",
    "    # return a0+a1*npy.cos(2*phi)\n",
    "    return a0+a1*npy.cos(2*phi)+ a2*npy.sin(2*phi)\n",
    "\n",
    "class dataVar:\n",
    "    def __init__(self,angleP):\n",
    "        self.angleP=angleP\n",
    "        self.current=[]\n",
    "        self.time=[]\n",
    "        self.angleA=[]\n",
    "\n",
    "def reader(filename,angleP,use):\n",
    "    data=dataVar(angleP)\n",
    "    inputfile=open(filename,'r')\n",
    "    i=0\n",
    "    while(1):\n",
    "        try:\n",
    "            temp=next(inputfile).split()\n",
    "            if(temp[4]!=('P'+str(angleP))):\n",
    "                continue\n",
    "            data.time.append(i*0.5)\n",
    "            if(use=='measurement'):\n",
    "                data.current.append(1e6*float(temp[2])-dark_measurement)\n",
    "            elif(use=='monitor'):\n",
    "                data.current.append(1e6*float(temp[2])-dark_monitor)\n",
    "            i=i+1\n",
    "        except StopIteration:\n",
    "            break\n",
    "    return data"
   ]
  },
  {
   "cell_type": "markdown",
   "metadata": {},
   "source": [
    "## Calculate a series of $\\alpha$ and $\\beta$ for future fit"
   ]
  },
  {
   "cell_type": "code",
   "execution_count": 7,
   "metadata": {},
   "outputs": [
    {
     "name": "stdout",
     "output_type": "stream",
     "text": [
      "[7.1867248  3.76868412 5.48189846 0.03487247]\n",
      "[8.51983087 3.99256522 6.83808382 0.03487583]\n",
      "[9.61251862 3.3927148  8.28060567 0.03487171]\n",
      "[10.36753798  2.97116362  9.19805908  0.03486678]\n",
      "[10.68765852  2.00166691  9.7714324   0.03487788]\n",
      "[10.53968209  1.20488751  9.75931981  0.03488302]\n",
      "[9.96913037 0.57837988 9.27544289 0.03487996]\n",
      "[ 8.99386526 -0.86568068  8.3093973   0.03488241]\n",
      "[ 7.72797985 -3.65605806 -6.14649814  0.03488972]\n",
      "[ 6.30913034 -1.93325576  5.47165149  0.03487979]\n",
      "[ 4.87565185 -2.40094005  3.71111309  0.03488419]\n"
     ]
    }
   ],
   "source": [
    "a=[3,0,3,3,0,2,1,1,1,2,2]  # the delay time of two Ammeters \n",
    "w=0.035   # this is the estimated angular velocity\n",
    "alpha=[]\n",
    "beta=[]\n",
    "angleP=[]\n",
    "\n",
    "for ip in range(11):\n",
    "    angleA=[]\n",
    "    angleP_temp=ip*9    #in degree\n",
    "    angleP.append(angleP_temp/180*pi)\n",
    "    window=10\n",
    "    \n",
    "    data_measurement=reader('measurement_caliAP.txt',angleP_temp,'measurement')\n",
    "    data_monitor=reader('monitor_caliAP.txt',angleP_temp,'monitor')\n",
    "\n",
    "    length=len(data_monitor.current)-20\n",
    "    # print(length)\n",
    "    b=0\n",
    "    data_monitor.time=data_monitor.time[0:length]\n",
    "    data_monitor.current=data_monitor.current[0+a[ip]:length+a[ip]]\n",
    "    data_measurement.time=data_measurement.time[0:length]\n",
    "    data_measurement.current=data_measurement.current[0+b:length+b]\n",
    "\n",
    "    signal=npy.array(data_measurement.current)/npy.array(data_monitor.current)\n",
    "    signal=savgol_filter(signal,window,3)  # Filtering operation\n",
    "    # average of the end current\n",
    "    mean_end=npy.mean(signal[720:])\n",
    "    end_time=0\n",
    "    for t in range(200):\n",
    "        if(signal[680+t]>=mean_end):\n",
    "            if(ip==10):\n",
    "                end_time=680+t-6\n",
    "            elif(ip==8):\n",
    "                end_time=680-t-9\n",
    "            else:\n",
    "                end_time=680+t\n",
    "            break\n",
    "        else:\n",
    "            continue\n",
    "    \n",
    "    signal_cut=npy.array(signal[0:end_time])\n",
    "    time_cut=npy.array(data_measurement.time[0:end_time])\n",
    "\n",
    "    fig,ax=plt.subplots(2,1,sharex=True)\n",
    "    ax[1].set_xlabel('Time (s)')\n",
    "    ax[0].set_ylabel('Intensity')\n",
    "    # ax[0].set_ylim()\n",
    "    ax[0].plot(data_measurement.time,signal,label='Water 400nm',linewidth=1,color='orange')#,color='blue)\n",
    "    ax[0].plot(time_cut,signal_cut,label='After cut',linestyle=\"--\",color='k',linewidth=1)#,color='blue)\n",
    "    ax[1].set_ylabel('Current (uA)')\n",
    "    ax[1].plot(data_measurement.time,data_measurement.current,label='measurement')\n",
    "    ax[1].plot(data_monitor.time,data_monitor.current,label='monitor')\n",
    "    fig.suptitle(str(ip*9)+' Deg. Intensity Vs. Time')\n",
    "    fig.subplots_adjust(hspace=0.1)\n",
    "    fig.patch.set_facecolor('white')\n",
    "    ax[0].legend()\n",
    "    ax[1].legend()\n",
    "    plt.close()\n",
    "    fig.savefig('cali_figure/'+ str(ip*9)+ 'DegIntensityVsTime.png',dpi=1000)\n",
    "    \n",
    "    #time_cut and signal_cut is the x y we need to fit.\n",
    "    time_cut=time_cut-0.5*(len(time_cut)-1)\n",
    "    p0=[0,0,0,w]\n",
    "    para,_=curve_fit(intensityFun,time_cut,signal_cut,p0)\n",
    "    print(para)\n",
    "    alpha.append(para[1]/para[0])\n",
    "    beta.append(para[2]/para[0])\n",
    "    signal_fit=intensityFun(time_cut,*para)\n",
    "    ratio_fit=signal_cut/signal_fit\n",
    "    fig,ax=plt.subplots(2,1,sharex=True)\n",
    "    ax[1].set_xlabel('Time (s)')\n",
    "    ax[0].set_ylabel('Intensity')\n",
    "    ax[0].plot(time_cut,signal_cut,label='Ori. signal',linewidth=1,color='orange')#,color='blue)\n",
    "    ax[0].plot(time_cut,signal_fit,label='Fitted signal',linestyle=\"--\",color='k',linewidth=1)#,color='blue)\n",
    "    ax[1].set_ylabel('Ratio')\n",
    "    ax[1].plot(time_cut,ratio_fit,'.',label='Ori. Vs. Fitted',markersize=1)\n",
    "    plt.fill_between(time_cut,npy.mean(ratio_fit)+npy.std(ratio_fit),npy.mean(ratio_fit)-npy.std(ratio_fit),alpha=0.3)\n",
    "    ax[1].fill\n",
    "    fig.suptitle(str(ip*9)+' Deg. Fit Result')\n",
    "    ax[0].legend()\n",
    "    ax[1].legend()\n",
    "    fig.patch.set_facecolor('white')\n",
    "    fig.savefig('cali_figure/Fit'+ str(ip*9)+ 'DegIntensityVsTime.png',dpi=1000)\n",
    "    plt.close()\n",
    "    "
   ]
  },
  {
   "cell_type": "markdown",
   "metadata": {},
   "source": [
    "## Fit the phi a b"
   ]
  }
 ],
 "metadata": {
  "interpreter": {
   "hash": "e489308f240930053fdc748a0151acbc65137e27fd86fc286e52f1f58ae69a29"
  },
  "kernelspec": {
   "display_name": "Python 3.9.2 64-bit",
   "language": "python",
   "name": "python3"
  },
  "language_info": {
   "codemirror_mode": {
    "name": "ipython",
    "version": 3
   },
   "file_extension": ".py",
   "mimetype": "text/x-python",
   "name": "python",
   "nbconvert_exporter": "python",
   "pygments_lexer": "ipython3",
   "version": "3.9.2"
  },
  "orig_nbformat": 4
 },
 "nbformat": 4,
 "nbformat_minor": 2
}
